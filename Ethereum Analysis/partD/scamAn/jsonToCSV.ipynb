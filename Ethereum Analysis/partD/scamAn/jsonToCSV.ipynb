{
  "nbformat": 4,
  "nbformat_minor": 0,
  "metadata": {
    "colab": {
      "name": "jsonToCSV.ipynb",
      "provenance": []
    },
    "kernelspec": {
      "name": "python3",
      "display_name": "Python 3"
    },
    "language_info": {
      "name": "python"
    }
  },
  "cells": [
    {
      "cell_type": "code",
      "execution_count": null,
      "metadata": {
        "id": "GO1KUWzdIEYe"
      },
      "outputs": [],
      "source": [
        "import json\n",
        "import pandas as pd\n",
        "\n",
        "data = open('scams.json')\n",
        "scams = json.load(data)\n",
        "\n",
        "df = pd.DataFrame(columns=['Address', 'Type of Scam', 'Status'])\n",
        "keys = scams[\"result\"]\n",
        "for i in keys:\n",
        "  record = scams[\"result\"][i]\n",
        "  category = record[\"category\"]\n",
        "  addresses = record[\"addresses\"]\n",
        "  status = record[\"status\"]\n",
        "  for j in addresses:\n",
        "    df.loc[len(df)] = [j, category, status]\n",
        "\n",
        "df.to_csv('scams.csv', index=False)"
      ]
    }
  ]
}